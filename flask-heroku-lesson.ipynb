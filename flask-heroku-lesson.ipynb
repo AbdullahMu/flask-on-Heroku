{
 "cells": [
  {
   "cell_type": "markdown",
   "metadata": {
    "slideshow": {
     "slide_type": "slide"
    }
   },
   "source": [
    "<img src=\"http://imgur.com/1ZcRyrc.png\" style=\"float: left; margin: 20px; height: 55px\">\n",
    "\n",
    "\n",
    "# Deploying Flask App on Heroku\n",
    "\n",
    "_Instructor: Esraa Madi_\n",
    "\n",
    "---\n",
    "\n",
    "<a id=\"learning-objectives\"></a>\n",
    "### Learning Objectives\n",
    "\n"
   ]
  },
  {
   "cell_type": "markdown",
   "metadata": {},
   "source": [
    "<a id=\"introduction\"></a>\n",
    "## Introduction\n",
    "---\n",
    "\n",
    "![heroku logo](https://miro.medium.com/max/960/1*qgcaFqBSgNhsQQNpepIagA.png)"
   ]
  },
  {
   "cell_type": "markdown",
   "metadata": {},
   "source": [
    ">Heroku is a cloud platform that lets companies build, deliver, monitor and scale apps.\n",
    "\n",
    ">Heroku is a platform as a service (PaaS) that enables developers to build, run, and operate applications entirely in the cloud."
   ]
  },
  {
   "cell_type": "markdown",
   "metadata": {},
   "source": [
    "### Create a web app in python on Heroku\n",
    "#### Step 1: Prepare flask file `hello.py`\n",
    "If you hit http://127.0.0.1:5000/page ,output should be: \n",
    "![heroku logo](images/web_result.png)\n"
   ]
  },
  {
   "cell_type": "markdown",
   "metadata": {},
   "source": [
    "#### Step 2:  Create some new files for Heroku deployment\n",
    "\n",
    "#### 1. Procfile\n",
    "This file tells Heroku which commands to run in order to start our website\n",
    "\n",
    "```\n",
    "web gunicorn hello:app\n",
    "```\n"
   ]
  },
  {
   "cell_type": "code",
   "execution_count": 1,
   "metadata": {},
   "outputs": [
    {
     "name": "stdout",
     "output_type": "stream",
     "text": [
      "Writing ./app/Procfile\n"
     ]
    }
   ],
   "source": [
    "%%writefile ./app/Procfile\n",
    "web gunicorn hello:app"
   ]
  },
  {
   "cell_type": "markdown",
   "metadata": {},
   "source": [
    "Also, install `gunicorn` in your environment:\n",
    "```\n",
    "pip install gunicorn\n",
    "```"
   ]
  },
  {
   "cell_type": "markdown",
   "metadata": {},
   "source": [
    "#### 2. runtime.txt\n",
    "\n",
    "To specify a particular version of Python via your app's runtime.txt\n",
    "\n",
    "```\n",
    "python-3.7.2\n",
    "```\n"
   ]
  },
  {
   "cell_type": "code",
   "execution_count": 4,
   "metadata": {},
   "outputs": [
    {
     "name": "stdout",
     "output_type": "stream",
     "text": [
      "Writing ./app/runtime.txt\n"
     ]
    }
   ],
   "source": [
    "%%writefile ./app/runtime.txt\n",
    "python-3.7.2"
   ]
  },
  {
   "cell_type": "markdown",
   "metadata": {},
   "source": [
    "#### 3. requirements.txt\n",
    "\n",
    "Contains all 3rd party libraries required by your app.\n",
    "\n",
    "Simply do:\n",
    "```\n",
    "pip freeze > requirements.txt\n",
    "```\n",
    "\n",
    "to generate a **requirements.txt** file.\n"
   ]
  },
  {
   "cell_type": "code",
   "execution_count": 5,
   "metadata": {},
   "outputs": [
    {
     "name": "stdout",
     "output_type": "stream",
     "text": [
      "Writing ./app/requirements.txt\n"
     ]
    }
   ],
   "source": [
    "%%writefile ./app/requirements.txt\n",
    "Flask==1.0.2\n",
    "gunicorn==19.9.0\n",
    "numpy==1.16.2\n",
    "pandas==0.24.2\n",
    "scikit-learn==0.20.3"
   ]
  },
  {
   "cell_type": "markdown",
   "metadata": {},
   "source": [
    "---------\n",
    "\n",
    "#### Step 4:  Now, its time to create a Heroku app!\n",
    "\n",
    "##### 4.1. Setup Git repository\n",
    "\n",
    "- Initialize a new git repository in your project folder.\n",
    "```\n",
    "git init\n",
    "```\n",
    "    \n",
    "- Add all untracked files to git repository by:\n",
    "```\n",
    "git add .\n",
    "```\n",
    "    \n",
    "- Commit the changes to git repository by:\n",
    "```\n",
    "git commit -m \"YOUR_COMMIT_MESSAGE_HERE\"\n",
    "```\n",
    "\n",
    "#### 4.2. Create a new [heroku account](https://signup.heroku.com/)\n",
    "\n",
    "\n",
    "#### 4.3. Download [Heroku CLI](https://devcenter.heroku.com/articles/heroku-cli#download-and-install).\n",
    "\n",
    "\n",
    "#### 4.4. Create a new Heroku app.\n",
    "```\n",
    "heroku create <your-app-name>\n",
    "```\n",
    "\n",
    "\n",
    "#### 4.5. Finally, you are ready to deploy your app by pushing your *local git repository* to the remote *heroku app's git repository* by: \n",
    "```\n",
    "git push heroku master\n",
    "```\n",
    "    \n",
    "#### 4.6. To check the logs of your heroku app:\n",
    "```\n",
    "heroku logs\n",
    "```"
   ]
  }
 ],
 "metadata": {
  "kernelspec": {
   "display_name": "Python 3",
   "language": "python",
   "name": "python3"
  },
  "language_info": {
   "codemirror_mode": {
    "name": "ipython",
    "version": 3
   },
   "file_extension": ".py",
   "mimetype": "text/x-python",
   "name": "python",
   "nbconvert_exporter": "python",
   "pygments_lexer": "ipython3",
   "version": "3.6.5"
  },
  "toc": {
   "nav_menu": {},
   "number_sections": false,
   "sideBar": true,
   "skip_h1_title": false,
   "title_cell": "Table of Contents",
   "title_sidebar": "Contents",
   "toc_cell": false,
   "toc_position": {},
   "toc_section_display": true,
   "toc_window_display": false
  },
  "varInspector": {
   "cols": {
    "lenName": 16,
    "lenType": 16,
    "lenVar": 40
   },
   "kernels_config": {
    "python": {
     "delete_cmd_postfix": "",
     "delete_cmd_prefix": "del ",
     "library": "var_list.py",
     "varRefreshCmd": "print(var_dic_list())"
    },
    "r": {
     "delete_cmd_postfix": ") ",
     "delete_cmd_prefix": "rm(",
     "library": "var_list.r",
     "varRefreshCmd": "cat(var_dic_list()) "
    }
   },
   "types_to_exclude": [
    "module",
    "function",
    "builtin_function_or_method",
    "instance",
    "_Feature"
   ],
   "window_display": false
  }
 },
 "nbformat": 4,
 "nbformat_minor": 2
}
